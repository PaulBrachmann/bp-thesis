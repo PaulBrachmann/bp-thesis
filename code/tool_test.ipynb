{
 "cells": [
  {
   "cell_type": "markdown",
   "metadata": {},
   "source": [
    "# Evaluate Tool Test Accuracies\n",
    "\n",
    "## Config"
   ]
  },
  {
   "cell_type": "code",
   "execution_count": null,
   "metadata": {},
   "outputs": [],
   "source": [
    "gt_path = \"tool_test/\"\n",
    "testees_path = \"tool_test/\"\n",
    "\n",
    "output = \"tool_accuracies.csv\""
   ]
  },
  {
   "cell_type": "markdown",
   "metadata": {},
   "source": [
    "## Set Up"
   ]
  },
  {
   "cell_type": "code",
   "execution_count": null,
   "metadata": {},
   "outputs": [],
   "source": [
    "!pip install matplotlib numpy Pillow\n",
    "\n",
    "import os\n",
    "import csv\n",
    "from PIL import Image\n",
    "import numpy as np\n",
    "\n",
    "import matplotlib.pyplot as plt\n",
    "%matplotlib inline\n",
    "\n",
    "# Utilities\n",
    "def extract_alpha(image):\n",
    "    return np.asarray(image.split()[3], dtype=\"int32\") > 25\n",
    "\n",
    "def dsc(y_true, y_pred):\n",
    "    top = 2 * np.sum(y_true * y_pred)\n",
    "    bottom = max(np.sum(y_true) + np.sum(y_pred), 1e-5)\n",
    "    return top / bottom"
   ]
  },
  {
   "cell_type": "markdown",
   "metadata": {},
   "source": [
    "## Test"
   ]
  },
  {
   "cell_type": "code",
   "execution_count": null,
   "metadata": {},
   "outputs": [],
   "source": [
    "testees = [testee for testee in os.listdir(testees_path)\n",
    "           if os.path.isdir(os.path.join(testees_path, testee))]\n",
    "\n",
    "with open(output, \"w\") as csvfile:\n",
    "    csvwriter = csv.writer(csvfile)\n",
    "    csvwriter.writerow([\"Testee\",\n",
    "                        \"Experiment\",\n",
    "                        \"Transform Accuracy [DSC]\",\n",
    "                        \"Paint Accuracy [DSC]\",\n",
    "                        \"Hybrid Accuracy [DSC]\"])\n",
    "\n",
    "    for testee in testees:\n",
    "        testee_path = os.path.join(testees_path, testee)\n",
    "\n",
    "        def rate_annotation(gt_file, annotation_file):\n",
    "            gt = extract_alpha(Image.open(os.path.join(gt_path, gt_file)))\n",
    "            annotation = extract_alpha(Image.open(os.path.join(testee_path, annotation_file)))\n",
    "            return dsc(gt, annotation)\n",
    "\n",
    "        csvwriter.writerow([\n",
    "            testee,\n",
    "            \"01-T108\",\n",
    "            rate_annotation(\"T108_gt.png\", \"01_rir_shift_T108_transform.png\"),\n",
    "            rate_annotation(\"T108_gt.png\", \"01_rir_shift_T108_paint.png\")])\n",
    "\n",
    "        csvwriter.writerow([\n",
    "            testee,\n",
    "            \"02-T108\",\n",
    "            rate_annotation(\"T108_gt.png\", \"02_dir_slight_shift_T108_transform.png\"),\n",
    "            rate_annotation(\"T108_gt.png\", \"02_dir_slight_shift_T108_paint.png\")])\n",
    "\n",
    "        csvwriter.writerow([\n",
    "            testee,\n",
    "            \"02-T125\",\n",
    "            rate_annotation(\"T125_gt.png\", \"02_dir_slight_shift_T125_transform.png\"),\n",
    "            rate_annotation(\"T125_gt.png\", \"02_dir_slight_shift_T125_paint.png\")])\n",
    "\n",
    "        csvwriter.writerow([\n",
    "            testee,\n",
    "            \"03-T117\",\n",
    "            rate_annotation(\"T117_gt.png\", \"03_dir_hyperlocal_T117_transform.png\"),\n",
    "            rate_annotation(\"T117_gt.png\", \"03_dir_hyperlocal_T117_paint.png\"),\n",
    "            rate_annotation(\"T117_gt.png\", \"03_dir_hyperlocal_T117_hybrid.png\")])"
   ]
  },
  {
   "cell_type": "code",
   "execution_count": null,
   "metadata": {},
   "outputs": [],
   "source": []
  }
 ],
 "metadata": {
  "kernelspec": {
   "display_name": "Python 3",
   "language": "python",
   "name": "python3"
  },
  "language_info": {
   "codemirror_mode": {
    "name": "ipython",
    "version": 3
   },
   "file_extension": ".py",
   "mimetype": "text/x-python",
   "name": "python",
   "nbconvert_exporter": "python",
   "pygments_lexer": "ipython3",
   "version": "3.6.8"
  }
 },
 "nbformat": 4,
 "nbformat_minor": 4
}
